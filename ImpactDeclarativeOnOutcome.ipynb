{
 "cells": [
  {
   "cell_type": "markdown",
   "id": "00456e16-3964-4975-9cf7-95196ba7c50c",
   "metadata": {},
   "source": [
    "## Impact of Declarative Constraint Violations on the Outcome"
   ]
  },
  {
   "cell_type": "markdown",
   "id": "6404a5d6-bd4b-4f39-8cc4-7826726acf34",
   "metadata": {},
   "source": [
    "### Importing a log (P2P Process BPIC'19)"
   ]
  },
  {
   "cell_type": "code",
   "execution_count": 1,
   "id": "9254d942-7718-4a76-a6fe-e8b533644e85",
   "metadata": {},
   "outputs": [],
   "source": [
    "import time\n",
    "from tqdm import tqdm\n",
    "import pm4py\n",
    "\n",
    "import matplotlib.pyplot as plt\n",
    "from collections import Counter\n",
    "import warnings\n",
    "warnings.filterwarnings(\"ignore\")\n",
    "from process_atoms.mine.declare.enums.mp_constants import Template\n",
    "from process_atoms.processatoms import ProcessAtoms\n",
    "from process_atoms.mine.declare.regexchecker import RegexChecker\n",
    "import pandas as pd\n",
    "import seaborn as sns\n",
    "\n",
    "from process_atoms.models.event_log import EventLog, EventLogSchemaTypes\n",
    "from process_atoms.models.column_types import (\n",
    "    CaseID,\n",
    "    Categorical,\n",
    "    EventType,\n",
    "    EventTime,\n",
    "    Continuous,\n",
    ")\n",
    "\n",
    "def penalty(duration, slack, amount, percentage):\n",
    "    penalty = (duration / slack) * percentage * amount\n",
    "    return penalty\n",
    "\n",
    "schema = EventLogSchemaTypes(\n",
    "    # schema for case-level attributes\n",
    "    cases={\n",
    "        \"Case ID\": CaseID,\n",
    "        \"(case) Company\": Categorical,\n",
    "        \"(case) Document Type\": Categorical,\n",
    "        \"(case) GR-Based Inv. Verif.\": Categorical,\n",
    "        \"(case) Goods Receipt\": Categorical,\n",
    "        \"(case) Item\": Categorical,\n",
    "        \"(case) Item Category\": Categorical,\n",
    "        \"(case) Item Type\": Categorical,\n",
    "        \"(case) Name\": Categorical,\n",
    "        \"(case) Purch. Doc. Category name\": Categorical,\n",
    "        \"(case) Purchasing Document\": Categorical,\n",
    "        \"(case) Source\": Categorical,\n",
    "        \"(case) Spend area text\": Categorical,\n",
    "        \"(case) Spend classification text\": Categorical,\n",
    "        \"(case) Sub spend area text\": Categorical,\n",
    "        \"(case) Vendor\": Categorical,\n",
    "        \"Cumulative net worth (EUR)\": Continuous,\n",
    "    },\n",
    "    events={\n",
    "        \"Case ID\": CaseID,\n",
    "        \"Activity\": EventType,\n",
    "        \"Complete Timestamp\": EventTime,\n",
    "        \"Resource\": Categorical,\n",
    "    },\n",
    ")\n",
    "\n",
    "LOG_PATH = \"data/BPI_Challenge_2019.csv\"\n",
    "PROCESS = \"BPIC_19\"\n",
    "# read the full log\n",
    "log = pd.read_csv(LOG_PATH, parse_dates=[\"Complete Timestamp\"])\n",
    "# split into case and event attributes\n",
    "df_cases = log[list(schema.cases.keys())].drop_duplicates(subset=\"Case ID\")\n",
    "df_events = log[list(schema.events.keys())]\n",
    "\n",
    "# create event log object\n",
    "event_log = EventLog(df_cases, df_events, schema)"
   ]
  },
  {
   "cell_type": "markdown",
   "id": "9c9415b0-d657-4aa5-8f70-a4a1131e6fb7",
   "metadata": {
    "jp-MarkdownHeadingCollapsed": true
   },
   "source": [
    "### Create the process model by mining declarative constraints from the log "
   ]
  },
  {
   "cell_type": "code",
   "execution_count": 2,
   "id": "4de753ce-b3da-4e7b-b12e-fb681e2e2c02",
   "metadata": {},
   "outputs": [
    {
     "name": "stderr",
     "output_type": "stream",
     "text": [
      "100%|██████████| 27/27 [00:01<00:00, 17.29it/s]"
     ]
    },
    {
     "name": "stdout",
     "output_type": "stream",
     "text": [
      "Atom mining took 1.843095064163208 seconds.\n"
     ]
    },
    {
     "name": "stderr",
     "output_type": "stream",
     "text": [
      "\n"
     ]
    }
   ],
   "source": [
    "considered_templates = [Template.RESPONSE.templ_str, Template.PRECEDENCE.templ_str]\n",
    "api = ProcessAtoms()\n",
    "\n",
    "start_time = time.time()\n",
    "atoms = api.mine_atoms_from_log(\n",
    "    PROCESS,\n",
    "    event_log,\n",
    "    considered_templates,\n",
    "    min_support=(0.1 * len(event_log)) / len(event_log),\n",
    "    local=True,\n",
    "    consider_vacuity=False,\n",
    ")\n",
    "end_time = time.time()\n",
    "\n",
    "delta = end_time - start_time\n",
    "\n",
    "print(f\"Atom mining took {delta} seconds.\")\n",
    "def atoms_to_df(atoms):\n",
    "    records = [\n",
    "        {\n",
    "            \"type\": atom.atom_type,\n",
    "            \"op_0\": atom.operands[0],\n",
    "            \"op_1\": atom.operands[1] if len(atom.operands) > 0 else \"\",\n",
    "            \"support\": atom.support,\n",
    "            \"confidence\": atom.attributes[\"confidence\"],\n",
    "        }\n",
    "        for atom in atoms\n",
    "    ]\n",
    "    return pd.DataFrame.from_records(records).sort_values(\n",
    "        by=\"confidence\", ascending=False\n",
    "    )\n",
    "atoms_df = atoms_to_df(atoms)\n"
   ]
  },
  {
   "cell_type": "code",
   "execution_count": 4,
   "id": "d96926fb",
   "metadata": {},
   "outputs": [
    {
     "data": {
      "text/plain": "          type                        op_0                        op_1  \\\n0   Precedence      Vendor creates invoice        Remove Payment Block   \n1   Precedence        Record Goods Receipt        Remove Payment Block   \n2   Precedence        Record Goods Receipt      Record Invoice Receipt   \n3   Precedence  Create Purchase Order Item               Clear Invoice   \n4   Precedence  Create Purchase Order Item        Remove Payment Block   \n5   Precedence  Create Purchase Order Item      Record Invoice Receipt   \n6   Precedence        Record Goods Receipt               Clear Invoice   \n7   Precedence      Vendor creates invoice               Clear Invoice   \n8   Precedence      Record Invoice Receipt               Clear Invoice   \n9   Precedence      Record Invoice Receipt        Remove Payment Block   \n10    Response      Vendor creates invoice      Record Invoice Receipt   \n11  Precedence  Create Purchase Order Item      Vendor creates invoice   \n12  Precedence      Vendor creates invoice      Record Invoice Receipt   \n13    Response  Create Purchase Order Item        Record Goods Receipt   \n14    Response      Vendor creates invoice               Clear Invoice   \n15    Response        Remove Payment Block               Clear Invoice   \n16    Response      Record Invoice Receipt               Clear Invoice   \n17  Precedence  Create Purchase Order Item        Record Goods Receipt   \n18    Response        Record Goods Receipt      Record Invoice Receipt   \n19    Response  Create Purchase Order Item      Record Invoice Receipt   \n20    Response  Create Purchase Order Item      Vendor creates invoice   \n21    Response        Record Goods Receipt               Clear Invoice   \n22    Response  Create Purchase Order Item               Clear Invoice   \n23    Response      Vendor creates invoice        Record Goods Receipt   \n24    Response  Record Service Entry Sheet      Record Invoice Receipt   \n25  Precedence  Create Purchase Order Item  Record Service Entry Sheet   \n26  Precedence        Record Goods Receipt      Vendor creates invoice   \n27    Response  Record Service Entry Sheet               Clear Invoice   \n28    Response  Record Service Entry Sheet        Record Goods Receipt   \n29  Precedence      Vendor creates invoice        Record Goods Receipt   \n30  Precedence        Record Goods Receipt  Record Service Entry Sheet   \n31    Response  Record Service Entry Sheet      Vendor creates invoice   \n32    Response  Create Purchase Order Item  Record Service Entry Sheet   \n33    Response        Record Goods Receipt      Vendor creates invoice   \n34  Precedence  Record Service Entry Sheet               Clear Invoice   \n35  Precedence  Record Service Entry Sheet      Record Invoice Receipt   \n36  Precedence  Record Service Entry Sheet        Record Goods Receipt   \n37    Response        Record Goods Receipt  Record Service Entry Sheet   \n38    Response      Vendor creates invoice        Remove Payment Block   \n39  Precedence  Record Service Entry Sheet      Vendor creates invoice   \n40  Precedence  Record Service Entry Sheet  Create Purchase Order Item   \n41    Response      Record Invoice Receipt        Remove Payment Block   \n42  Precedence        Remove Payment Block               Clear Invoice   \n43  Precedence        Record Goods Receipt  Create Purchase Order Item   \n44    Response        Record Goods Receipt        Remove Payment Block   \n45    Response  Create Purchase Order Item        Remove Payment Block   \n\n     support  confidence  \n0   0.146884    1.000000  \n1   0.146884    1.000000  \n2   0.732973    1.000000  \n3   0.637334    1.000000  \n4   0.146884    1.000000  \n5   0.732973    1.000000  \n6   0.637268    0.999897  \n7   0.637202    0.999793  \n8   0.636741    0.999070  \n9   0.146687    0.998655  \n10  0.704453    0.997482  \n11  0.682387    0.966238  \n12  0.705045    0.961898  \n13  0.920827    0.920827  \n14  0.635292    0.899552  \n15  0.129891    0.884305  \n16  0.625609    0.853523  \n17  0.807140    0.842837  \n18  0.730141    0.762432  \n19  0.732973    0.732973  \n20  0.689435    0.689435  \n21  0.632986    0.660981  \n22  0.637334    0.637334  \n23  0.381307    0.539918  \n24  0.188579    0.510885  \n25  0.179225    0.485546  \n26  0.327230    0.463346  \n27  0.166711    0.451642  \n28  0.155447    0.421128  \n29  0.379001    0.395763  \n30  0.144447    0.391328  \n31  0.130945    0.354747  \n32  0.341720    0.341720  \n33  0.324924    0.339294  \n34  0.170992    0.268293  \n35  0.190752    0.260244  \n36  0.224608    0.234542  \n37  0.213608    0.223055  \n38  0.142537    0.201828  \n39  0.136280    0.192968  \n40  0.189896    0.189896  \n41  0.135950    0.185478  \n42  0.116783    0.183237  \n43  0.150507    0.150507  \n44  0.142405    0.148703  \n45  0.146884    0.146884  ",
      "text/html": "<div>\n<style scoped>\n    .dataframe tbody tr th:only-of-type {\n        vertical-align: middle;\n    }\n\n    .dataframe tbody tr th {\n        vertical-align: top;\n    }\n\n    .dataframe thead th {\n        text-align: right;\n    }\n</style>\n<table border=\"1\" class=\"dataframe\">\n  <thead>\n    <tr style=\"text-align: right;\">\n      <th></th>\n      <th>type</th>\n      <th>op_0</th>\n      <th>op_1</th>\n      <th>support</th>\n      <th>confidence</th>\n    </tr>\n  </thead>\n  <tbody>\n    <tr>\n      <th>0</th>\n      <td>Precedence</td>\n      <td>Vendor creates invoice</td>\n      <td>Remove Payment Block</td>\n      <td>0.146884</td>\n      <td>1.000000</td>\n    </tr>\n    <tr>\n      <th>1</th>\n      <td>Precedence</td>\n      <td>Record Goods Receipt</td>\n      <td>Remove Payment Block</td>\n      <td>0.146884</td>\n      <td>1.000000</td>\n    </tr>\n    <tr>\n      <th>2</th>\n      <td>Precedence</td>\n      <td>Record Goods Receipt</td>\n      <td>Record Invoice Receipt</td>\n      <td>0.732973</td>\n      <td>1.000000</td>\n    </tr>\n    <tr>\n      <th>3</th>\n      <td>Precedence</td>\n      <td>Create Purchase Order Item</td>\n      <td>Clear Invoice</td>\n      <td>0.637334</td>\n      <td>1.000000</td>\n    </tr>\n    <tr>\n      <th>4</th>\n      <td>Precedence</td>\n      <td>Create Purchase Order Item</td>\n      <td>Remove Payment Block</td>\n      <td>0.146884</td>\n      <td>1.000000</td>\n    </tr>\n    <tr>\n      <th>5</th>\n      <td>Precedence</td>\n      <td>Create Purchase Order Item</td>\n      <td>Record Invoice Receipt</td>\n      <td>0.732973</td>\n      <td>1.000000</td>\n    </tr>\n    <tr>\n      <th>6</th>\n      <td>Precedence</td>\n      <td>Record Goods Receipt</td>\n      <td>Clear Invoice</td>\n      <td>0.637268</td>\n      <td>0.999897</td>\n    </tr>\n    <tr>\n      <th>7</th>\n      <td>Precedence</td>\n      <td>Vendor creates invoice</td>\n      <td>Clear Invoice</td>\n      <td>0.637202</td>\n      <td>0.999793</td>\n    </tr>\n    <tr>\n      <th>8</th>\n      <td>Precedence</td>\n      <td>Record Invoice Receipt</td>\n      <td>Clear Invoice</td>\n      <td>0.636741</td>\n      <td>0.999070</td>\n    </tr>\n    <tr>\n      <th>9</th>\n      <td>Precedence</td>\n      <td>Record Invoice Receipt</td>\n      <td>Remove Payment Block</td>\n      <td>0.146687</td>\n      <td>0.998655</td>\n    </tr>\n    <tr>\n      <th>10</th>\n      <td>Response</td>\n      <td>Vendor creates invoice</td>\n      <td>Record Invoice Receipt</td>\n      <td>0.704453</td>\n      <td>0.997482</td>\n    </tr>\n    <tr>\n      <th>11</th>\n      <td>Precedence</td>\n      <td>Create Purchase Order Item</td>\n      <td>Vendor creates invoice</td>\n      <td>0.682387</td>\n      <td>0.966238</td>\n    </tr>\n    <tr>\n      <th>12</th>\n      <td>Precedence</td>\n      <td>Vendor creates invoice</td>\n      <td>Record Invoice Receipt</td>\n      <td>0.705045</td>\n      <td>0.961898</td>\n    </tr>\n    <tr>\n      <th>13</th>\n      <td>Response</td>\n      <td>Create Purchase Order Item</td>\n      <td>Record Goods Receipt</td>\n      <td>0.920827</td>\n      <td>0.920827</td>\n    </tr>\n    <tr>\n      <th>14</th>\n      <td>Response</td>\n      <td>Vendor creates invoice</td>\n      <td>Clear Invoice</td>\n      <td>0.635292</td>\n      <td>0.899552</td>\n    </tr>\n    <tr>\n      <th>15</th>\n      <td>Response</td>\n      <td>Remove Payment Block</td>\n      <td>Clear Invoice</td>\n      <td>0.129891</td>\n      <td>0.884305</td>\n    </tr>\n    <tr>\n      <th>16</th>\n      <td>Response</td>\n      <td>Record Invoice Receipt</td>\n      <td>Clear Invoice</td>\n      <td>0.625609</td>\n      <td>0.853523</td>\n    </tr>\n    <tr>\n      <th>17</th>\n      <td>Precedence</td>\n      <td>Create Purchase Order Item</td>\n      <td>Record Goods Receipt</td>\n      <td>0.807140</td>\n      <td>0.842837</td>\n    </tr>\n    <tr>\n      <th>18</th>\n      <td>Response</td>\n      <td>Record Goods Receipt</td>\n      <td>Record Invoice Receipt</td>\n      <td>0.730141</td>\n      <td>0.762432</td>\n    </tr>\n    <tr>\n      <th>19</th>\n      <td>Response</td>\n      <td>Create Purchase Order Item</td>\n      <td>Record Invoice Receipt</td>\n      <td>0.732973</td>\n      <td>0.732973</td>\n    </tr>\n    <tr>\n      <th>20</th>\n      <td>Response</td>\n      <td>Create Purchase Order Item</td>\n      <td>Vendor creates invoice</td>\n      <td>0.689435</td>\n      <td>0.689435</td>\n    </tr>\n    <tr>\n      <th>21</th>\n      <td>Response</td>\n      <td>Record Goods Receipt</td>\n      <td>Clear Invoice</td>\n      <td>0.632986</td>\n      <td>0.660981</td>\n    </tr>\n    <tr>\n      <th>22</th>\n      <td>Response</td>\n      <td>Create Purchase Order Item</td>\n      <td>Clear Invoice</td>\n      <td>0.637334</td>\n      <td>0.637334</td>\n    </tr>\n    <tr>\n      <th>23</th>\n      <td>Response</td>\n      <td>Vendor creates invoice</td>\n      <td>Record Goods Receipt</td>\n      <td>0.381307</td>\n      <td>0.539918</td>\n    </tr>\n    <tr>\n      <th>24</th>\n      <td>Response</td>\n      <td>Record Service Entry Sheet</td>\n      <td>Record Invoice Receipt</td>\n      <td>0.188579</td>\n      <td>0.510885</td>\n    </tr>\n    <tr>\n      <th>25</th>\n      <td>Precedence</td>\n      <td>Create Purchase Order Item</td>\n      <td>Record Service Entry Sheet</td>\n      <td>0.179225</td>\n      <td>0.485546</td>\n    </tr>\n    <tr>\n      <th>26</th>\n      <td>Precedence</td>\n      <td>Record Goods Receipt</td>\n      <td>Vendor creates invoice</td>\n      <td>0.327230</td>\n      <td>0.463346</td>\n    </tr>\n    <tr>\n      <th>27</th>\n      <td>Response</td>\n      <td>Record Service Entry Sheet</td>\n      <td>Clear Invoice</td>\n      <td>0.166711</td>\n      <td>0.451642</td>\n    </tr>\n    <tr>\n      <th>28</th>\n      <td>Response</td>\n      <td>Record Service Entry Sheet</td>\n      <td>Record Goods Receipt</td>\n      <td>0.155447</td>\n      <td>0.421128</td>\n    </tr>\n    <tr>\n      <th>29</th>\n      <td>Precedence</td>\n      <td>Vendor creates invoice</td>\n      <td>Record Goods Receipt</td>\n      <td>0.379001</td>\n      <td>0.395763</td>\n    </tr>\n    <tr>\n      <th>30</th>\n      <td>Precedence</td>\n      <td>Record Goods Receipt</td>\n      <td>Record Service Entry Sheet</td>\n      <td>0.144447</td>\n      <td>0.391328</td>\n    </tr>\n    <tr>\n      <th>31</th>\n      <td>Response</td>\n      <td>Record Service Entry Sheet</td>\n      <td>Vendor creates invoice</td>\n      <td>0.130945</td>\n      <td>0.354747</td>\n    </tr>\n    <tr>\n      <th>32</th>\n      <td>Response</td>\n      <td>Create Purchase Order Item</td>\n      <td>Record Service Entry Sheet</td>\n      <td>0.341720</td>\n      <td>0.341720</td>\n    </tr>\n    <tr>\n      <th>33</th>\n      <td>Response</td>\n      <td>Record Goods Receipt</td>\n      <td>Vendor creates invoice</td>\n      <td>0.324924</td>\n      <td>0.339294</td>\n    </tr>\n    <tr>\n      <th>34</th>\n      <td>Precedence</td>\n      <td>Record Service Entry Sheet</td>\n      <td>Clear Invoice</td>\n      <td>0.170992</td>\n      <td>0.268293</td>\n    </tr>\n    <tr>\n      <th>35</th>\n      <td>Precedence</td>\n      <td>Record Service Entry Sheet</td>\n      <td>Record Invoice Receipt</td>\n      <td>0.190752</td>\n      <td>0.260244</td>\n    </tr>\n    <tr>\n      <th>36</th>\n      <td>Precedence</td>\n      <td>Record Service Entry Sheet</td>\n      <td>Record Goods Receipt</td>\n      <td>0.224608</td>\n      <td>0.234542</td>\n    </tr>\n    <tr>\n      <th>37</th>\n      <td>Response</td>\n      <td>Record Goods Receipt</td>\n      <td>Record Service Entry Sheet</td>\n      <td>0.213608</td>\n      <td>0.223055</td>\n    </tr>\n    <tr>\n      <th>38</th>\n      <td>Response</td>\n      <td>Vendor creates invoice</td>\n      <td>Remove Payment Block</td>\n      <td>0.142537</td>\n      <td>0.201828</td>\n    </tr>\n    <tr>\n      <th>39</th>\n      <td>Precedence</td>\n      <td>Record Service Entry Sheet</td>\n      <td>Vendor creates invoice</td>\n      <td>0.136280</td>\n      <td>0.192968</td>\n    </tr>\n    <tr>\n      <th>40</th>\n      <td>Precedence</td>\n      <td>Record Service Entry Sheet</td>\n      <td>Create Purchase Order Item</td>\n      <td>0.189896</td>\n      <td>0.189896</td>\n    </tr>\n    <tr>\n      <th>41</th>\n      <td>Response</td>\n      <td>Record Invoice Receipt</td>\n      <td>Remove Payment Block</td>\n      <td>0.135950</td>\n      <td>0.185478</td>\n    </tr>\n    <tr>\n      <th>42</th>\n      <td>Precedence</td>\n      <td>Remove Payment Block</td>\n      <td>Clear Invoice</td>\n      <td>0.116783</td>\n      <td>0.183237</td>\n    </tr>\n    <tr>\n      <th>43</th>\n      <td>Precedence</td>\n      <td>Record Goods Receipt</td>\n      <td>Create Purchase Order Item</td>\n      <td>0.150507</td>\n      <td>0.150507</td>\n    </tr>\n    <tr>\n      <th>44</th>\n      <td>Response</td>\n      <td>Record Goods Receipt</td>\n      <td>Remove Payment Block</td>\n      <td>0.142405</td>\n      <td>0.148703</td>\n    </tr>\n    <tr>\n      <th>45</th>\n      <td>Response</td>\n      <td>Create Purchase Order Item</td>\n      <td>Remove Payment Block</td>\n      <td>0.146884</td>\n      <td>0.146884</td>\n    </tr>\n  </tbody>\n</table>\n</div>"
     },
     "execution_count": 4,
     "metadata": {},
     "output_type": "execute_result"
    }
   ],
   "source": [
    "atoms_df"
   ]
  },
  {
   "cell_type": "code",
   "execution_count": 5,
   "id": "c44b65a8",
   "metadata": {},
   "outputs": [
    {
     "data": {
      "text/plain": "['Precedence_Vendor creates invoice_Remove Payment Block',\n 'Precedence_Record Goods Receipt_Remove Payment Block',\n 'Precedence_Record Goods Receipt_Record Invoice Receipt',\n 'Precedence_Create Purchase Order Item_Clear Invoice',\n 'Precedence_Create Purchase Order Item_Remove Payment Block',\n 'Precedence_Create Purchase Order Item_Record Invoice Receipt',\n 'Precedence_Record Goods Receipt_Clear Invoice',\n 'Precedence_Vendor creates invoice_Clear Invoice',\n 'Precedence_Record Invoice Receipt_Clear Invoice',\n 'Precedence_Record Invoice Receipt_Remove Payment Block',\n 'Response_Vendor creates invoice_Record Invoice Receipt',\n 'Precedence_Create Purchase Order Item_Vendor creates invoice',\n 'Precedence_Vendor creates invoice_Record Invoice Receipt',\n 'Response_Create Purchase Order Item_Record Goods Receipt',\n 'Response_Vendor creates invoice_Clear Invoice',\n 'Response_Remove Payment Block_Clear Invoice',\n 'Response_Record Invoice Receipt_Clear Invoice',\n 'Precedence_Create Purchase Order Item_Record Goods Receipt',\n 'Response_Record Goods Receipt_Record Invoice Receipt',\n 'Response_Create Purchase Order Item_Record Invoice Receipt',\n 'Response_Create Purchase Order Item_Vendor creates invoice',\n 'Response_Record Goods Receipt_Clear Invoice',\n 'Response_Create Purchase Order Item_Clear Invoice',\n 'Response_Vendor creates invoice_Record Goods Receipt',\n 'Response_Record Service Entry Sheet_Record Invoice Receipt',\n 'Precedence_Create Purchase Order Item_Record Service Entry Sheet',\n 'Precedence_Record Goods Receipt_Vendor creates invoice',\n 'Response_Record Service Entry Sheet_Clear Invoice',\n 'Response_Record Service Entry Sheet_Record Goods Receipt',\n 'Precedence_Vendor creates invoice_Record Goods Receipt',\n 'Precedence_Record Goods Receipt_Record Service Entry Sheet',\n 'Response_Record Service Entry Sheet_Vendor creates invoice',\n 'Response_Create Purchase Order Item_Record Service Entry Sheet',\n 'Response_Record Goods Receipt_Vendor creates invoice',\n 'Precedence_Record Service Entry Sheet_Clear Invoice',\n 'Precedence_Record Service Entry Sheet_Record Invoice Receipt',\n 'Precedence_Record Service Entry Sheet_Record Goods Receipt',\n 'Response_Record Goods Receipt_Record Service Entry Sheet',\n 'Response_Vendor creates invoice_Remove Payment Block',\n 'Precedence_Record Service Entry Sheet_Vendor creates invoice',\n 'Precedence_Record Service Entry Sheet_Create Purchase Order Item',\n 'Response_Record Invoice Receipt_Remove Payment Block',\n 'Precedence_Remove Payment Block_Clear Invoice',\n 'Precedence_Record Goods Receipt_Create Purchase Order Item',\n 'Response_Record Goods Receipt_Remove Payment Block',\n 'Response_Create Purchase Order Item_Remove Payment Block']"
     },
     "execution_count": 5,
     "metadata": {},
     "output_type": "execute_result"
    }
   ],
   "source": [
    "dev=[]\n",
    "for i in atoms_df.index:\n",
    "    dev.append(atoms_df[\"type\"][i]+'_'+atoms_df[\"op_0\"][i]+'_'+atoms_df[\"op_1\"][i])\n",
    "dev"
   ]
  },
  {
   "cell_type": "code",
   "execution_count": 6,
   "id": "4a30a584",
   "metadata": {},
   "outputs": [
    {
     "data": {
      "text/plain": "46"
     },
     "execution_count": 6,
     "metadata": {},
     "output_type": "execute_result"
    }
   ],
   "source": [
    "len(dev)"
   ]
  },
  {
   "cell_type": "code",
   "execution_count": 10,
   "id": "f43c4886",
   "metadata": {},
   "outputs": [],
   "source": [
    "con = 1\n",
    "the_atom = None\n",
    "for atom in atoms:\n",
    "    if atom.atom_type == atoms_df['type'][con] and atom.operands == [\n",
    "        atoms_df['op_0'][con],\n",
    "        atoms_df['op_1'][con],\n",
    "    ]:\n",
    "        the_atom = atom\n",
    "checker = RegexChecker(PROCESS, event_log)\n",
    "activities = checker.log.unique_activities()\n",
    "activity_map = checker._map_activities_to_letters(activities)\n",
    "variant_frame = checker.create_variant_frame_from_log(activity_map)\n",
    "variant_frame[\"sat\"] = checker.compute_satisfaction(\n",
    "    the_atom, variant_frame, activity_map, consider_vacuity=False\n",
    ")\n",
    "case_ids = set(val for cases in variant_frame[\"case_ids\"].values for val in cases)"
   ]
  },
  {
   "cell_type": "code",
   "execution_count": 11,
   "id": "7b645440",
   "metadata": {},
   "outputs": [],
   "source": [
    "\n",
    "collect_data=pd.DataFrame(data=0, index=range(len(event_log)), columns=dev)\n",
    "collect_data['case_id']=None\n",
    "collect_data['outcome']=None\n",
    "for i, d in enumerate(dev):\n",
    "    the_atom = None\n",
    "    for atom in atoms:\n",
    "        if atom.atom_type == atoms_df['type'][i] and atom.operands == [\n",
    "            atoms_df['op_0'][i],\n",
    "            atoms_df['op_1'][i],\n",
    "        ]:\n",
    "            the_atom = atom\n",
    "    checker = RegexChecker(PROCESS, event_log)\n",
    "    activities = checker.log.unique_activities()\n",
    "    activity_map = checker._map_activities_to_letters(activities)\n",
    "    variant_frame = checker.create_variant_frame_from_log(activity_map)\n",
    "    variant_frame[\"sat\"] = checker.compute_satisfaction(\n",
    "        the_atom, variant_frame, activity_map, consider_vacuity=False\n",
    "    )\n",
    "    if i==0:\n",
    "        collect_data['case_id'] = list(val for cases in variant_frame[\"case_ids\"].values for val in cases)\n",
    "    for j in range(len(variant_frame)):\n",
    "        for case_id in variant_frame[\"case_ids\"][j]:\n",
    "            ids = collect_data.index[collect_data['case_id'] == case_id]\n",
    "            if variant_frame[\"sat\"][j] == 1:\n",
    "                collect_data[d][ids] = 0\n",
    "            else:\n",
    "                collect_data[d][ids] = 1"
   ]
  },
  {
   "cell_type": "code",
   "execution_count": 12,
   "id": "1cb5b3fb",
   "metadata": {},
   "outputs": [],
   "source": [
    "collect_data['outcome']=None\n",
    "for case in range(len(event_log)):\n",
    "    ids = collect_data.index[collect_data['case_id'] == event_log[case].attributes[\"Case ID\"]]\n",
    "    checker_1=False\n",
    "    checker_2=False\n",
    "    events=event_log[case].get_activity_sequence()\n",
    "    for event in events:\n",
    "        if event=='Record Goods Receipt':\n",
    "            checker_1=True\n",
    "        if event == 'Clear Invoice' and checker_1:\n",
    "            checker_2=True\n",
    "    collect_data['outcome'][case] = 1 if checker_2 else 0\n",
    "collect_data['outcome']=collect_data['outcome'].astype(float)"
   ]
  },
  {
   "cell_type": "code",
   "execution_count": 11,
   "id": "e9763e44",
   "metadata": {},
   "outputs": [
    {
     "data": {
      "text/plain": [
       "['Precedence_Vendor creates invoice_Remove Payment Block',\n",
       " 'Precedence_Record Goods Receipt_Remove Payment Block',\n",
       " 'Precedence_Record Goods Receipt_Record Invoice Receipt',\n",
       " 'Precedence_Create Purchase Order Item_Clear Invoice',\n",
       " 'Precedence_Create Purchase Order Item_Remove Payment Block',\n",
       " 'Precedence_Create Purchase Order Item_Record Invoice Receipt',\n",
       " 'Precedence_Record Goods Receipt_Clear Invoice',\n",
       " 'Precedence_Vendor creates invoice_Clear Invoice',\n",
       " 'Precedence_Record Invoice Receipt_Clear Invoice',\n",
       " 'Precedence_Record Invoice Receipt_Remove Payment Block',\n",
       " 'Response_Vendor creates invoice_Record Invoice Receipt',\n",
       " 'Precedence_Create Purchase Order Item_Vendor creates invoice',\n",
       " 'Precedence_Vendor creates invoice_Record Invoice Receipt',\n",
       " 'Response_Create Purchase Order Item_Record Goods Receipt',\n",
       " 'Response_Vendor creates invoice_Clear Invoice',\n",
       " 'Response_Remove Payment Block_Clear Invoice',\n",
       " 'Response_Record Invoice Receipt_Clear Invoice',\n",
       " 'Precedence_Create Purchase Order Item_Record Goods Receipt',\n",
       " 'Response_Record Goods Receipt_Record Invoice Receipt',\n",
       " 'Response_Create Purchase Order Item_Record Invoice Receipt',\n",
       " 'Response_Create Purchase Order Item_Vendor creates invoice',\n",
       " 'Response_Record Goods Receipt_Clear Invoice',\n",
       " 'Response_Create Purchase Order Item_Clear Invoice',\n",
       " 'Response_Vendor creates invoice_Record Goods Receipt',\n",
       " 'Response_Record Service Entry Sheet_Record Invoice Receipt',\n",
       " 'Precedence_Create Purchase Order Item_Record Service Entry Sheet',\n",
       " 'Precedence_Record Goods Receipt_Vendor creates invoice',\n",
       " 'Response_Record Service Entry Sheet_Clear Invoice',\n",
       " 'Response_Record Service Entry Sheet_Record Goods Receipt',\n",
       " 'Precedence_Vendor creates invoice_Record Goods Receipt',\n",
       " 'Precedence_Record Goods Receipt_Record Service Entry Sheet',\n",
       " 'Response_Record Service Entry Sheet_Vendor creates invoice',\n",
       " 'Response_Create Purchase Order Item_Record Service Entry Sheet',\n",
       " 'Response_Record Goods Receipt_Vendor creates invoice',\n",
       " 'Precedence_Record Service Entry Sheet_Clear Invoice',\n",
       " 'Precedence_Record Service Entry Sheet_Record Invoice Receipt',\n",
       " 'Precedence_Record Service Entry Sheet_Record Goods Receipt',\n",
       " 'Response_Record Goods Receipt_Record Service Entry Sheet',\n",
       " 'Response_Vendor creates invoice_Remove Payment Block',\n",
       " 'Precedence_Record Service Entry Sheet_Vendor creates invoice',\n",
       " 'Precedence_Record Service Entry Sheet_Create Purchase Order Item',\n",
       " 'Response_Record Invoice Receipt_Remove Payment Block',\n",
       " 'Precedence_Remove Payment Block_Clear Invoice',\n",
       " 'Precedence_Record Goods Receipt_Create Purchase Order Item',\n",
       " 'Response_Record Goods Receipt_Remove Payment Block',\n",
       " 'Response_Create Purchase Order Item_Remove Payment Block']"
      ]
     },
     "execution_count": 11,
     "metadata": {},
     "output_type": "execute_result"
    }
   ],
   "source": [
    "dev"
   ]
  },
  {
   "cell_type": "markdown",
   "id": "b33414b1",
   "metadata": {},
   "source": [
    "### Quantify the impact of each deviation based on cost function "
   ]
  },
  {
   "cell_type": "code",
   "execution_count": 12,
   "id": "7192b46b-ae9a-409e-896e-d3f40f1f2910",
   "metadata": {},
   "outputs": [],
   "source": [
    "from dowhy import CausalModel as dowhymodel\n",
    "from dowhy import gcm\n",
    "import networkx as nx\n",
    "\n",
    "cates={}\n",
    "for d in dev:\n",
    "    model=dowhymodel(\n",
    "            data = collect_data,\n",
    "            treatment=d,\n",
    "            outcome='outcome',\n",
    "            graph=gcm.StructuralCausalModel(nx.DiGraph([(d, 'outcome')])),\n",
    "            instruments=list(collect_data.drop(columns=d).columns)\n",
    "            )\n",
    "    identified_estimand = model.identify_effect(proceed_when_unidentifiable=True)\n",
    "    cates[d]=model.estimate_effect(identified_estimand,\n",
    "                            method_name=\"backdoor.linear_regression\",\n",
    "                            test_significance=True).value"
   ]
  },
  {
   "cell_type": "code",
   "execution_count": 13,
   "id": "559a34e1",
   "metadata": {},
   "outputs": [
    {
     "data": {
      "text/plain": [
       "{'Precedence_Vendor creates invoice_Remove Payment Block': -0.020443541797643405,\n",
       " 'Precedence_Record Goods Receipt_Remove Payment Block': -0.020443541797643405,\n",
       " 'Precedence_Record Goods Receipt_Record Invoice Receipt': -0.19501560883501162,\n",
       " 'Precedence_Create Purchase Order Item_Clear Invoice': -0.22962668257573965,\n",
       " 'Precedence_Create Purchase Order Item_Remove Payment Block': -0.020443541797643405,\n",
       " 'Precedence_Create Purchase Order Item_Record Invoice Receipt': -0.19501560883501162,\n",
       " 'Precedence_Record Goods Receipt_Clear Invoice': -0.2297903021242802,\n",
       " 'Precedence_Vendor creates invoice_Clear Invoice': -0.2296689807401675,\n",
       " 'Precedence_Record Invoice Receipt_Clear Invoice': -0.2293900391654939,\n",
       " 'Precedence_Record Invoice Receipt_Remove Payment Block': -0.020419929648364255,\n",
       " 'Response_Vendor creates invoice_Record Invoice Receipt': -0.16053151522974607,\n",
       " 'Precedence_Create Purchase Order Item_Vendor creates invoice': -0.1628659025797241,\n",
       " 'Precedence_Vendor creates invoice_Record Invoice Receipt': -0.16016923961756468,\n",
       " 'Response_Create Purchase Order Item_Record Goods Receipt': 0.016266284851901625,\n",
       " 'Response_Vendor creates invoice_Clear Invoice': -0.22843685155699522,\n",
       " 'Response_Remove Payment Block_Clear Invoice': -0.08468536805204352,\n",
       " 'Response_Record Invoice Receipt_Clear Invoice': -0.2213831379590469,\n",
       " 'Precedence_Create Purchase Order Item_Record Goods Receipt': -0.17641395783778963,\n",
       " 'Response_Record Goods Receipt_Record Invoice Receipt': -0.19452051838540324,\n",
       " 'Response_Create Purchase Order Item_Record Invoice Receipt': -0.19501560883501162,\n",
       " 'Response_Create Purchase Order Item_Vendor creates invoice': -0.16172520594696327,\n",
       " 'Response_Record Goods Receipt_Clear Invoice': -0.22706441378889164,\n",
       " 'Response_Create Purchase Order Item_Clear Invoice': -0.22962668257573965,\n",
       " 'Response_Vendor creates invoice_Record Goods Receipt': -0.1141542630962632,\n",
       " 'Response_Record Service Entry Sheet_Record Invoice Receipt': 0.04067744814987251,\n",
       " 'Precedence_Create Purchase Order Item_Record Service Entry Sheet': 0.02462949378171364,\n",
       " 'Precedence_Record Goods Receipt_Vendor creates invoice': -0.026943379473154838,\n",
       " 'Response_Record Service Entry Sheet_Clear Invoice': 0.016559471657449976,\n",
       " 'Response_Record Service Entry Sheet_Record Goods Receipt': 0.09680785672929548,\n",
       " 'Precedence_Vendor creates invoice_Record Goods Receipt': -0.11702618856646951,\n",
       " 'Precedence_Record Goods Receipt_Record Service Entry Sheet': 0.13139579293251202,\n",
       " 'Response_Record Service Entry Sheet_Vendor creates invoice': 0.0769171646523008,\n",
       " 'Response_Create Purchase Order Item_Record Service Entry Sheet': 0.1830504239320816,\n",
       " 'Response_Record Goods Receipt_Vendor creates invoice': -0.02983586261386073,\n",
       " 'Precedence_Record Service Entry Sheet_Clear Invoice': 0.012242550910756433,\n",
       " 'Precedence_Record Service Entry Sheet_Record Invoice Receipt': 0.039907975929120654,\n",
       " 'Precedence_Record Service Entry Sheet_Record Goods Receipt': 0.16152394020106542,\n",
       " 'Response_Record Goods Receipt_Record Service Entry Sheet': 0.1884740854405469,\n",
       " 'Response_Vendor creates invoice_Remove Payment Block': -0.019375632034007717,\n",
       " 'Precedence_Record Service Entry Sheet_Vendor creates invoice': 0.08030449676799856,\n",
       " 'Precedence_Record Service Entry Sheet_Create Purchase Order Item': 0.26471212420028933,\n",
       " 'Response_Record Invoice Receipt_Remove Payment Block': -0.0228099504674959,\n",
       " 'Precedence_Remove Payment Block_Clear Invoice': -0.09459098802114196,\n",
       " 'Precedence_Record Goods Receipt_Create Purchase Order Item': 0.24890998856620433,\n",
       " 'Response_Record Goods Receipt_Remove Payment Block': -0.020617323949065125,\n",
       " 'Response_Create Purchase Order Item_Remove Payment Block': -0.020443541797643405}"
      ]
     },
     "execution_count": 13,
     "metadata": {},
     "output_type": "execute_result"
    }
   ],
   "source": [
    "cates"
   ]
  },
  {
   "cell_type": "markdown",
   "id": "78aa58f0-b86a-406c-bc64-bd759fdaf6f7",
   "metadata": {},
   "source": [
    "### Defining the severity function\n",
    "\n"
   ]
  },
  {
   "cell_type": "code",
   "execution_count": 19,
   "id": "3de60a29-2a1d-4db0-a3d5-a27605d03c1b",
   "metadata": {},
   "outputs": [],
   "source": [
    "def severity(value):\n",
    "    if value == 0:\n",
    "        return \"neutral\"\n",
    "    elif -0.05 <= value < 0:\n",
    "        return \"low negative\"\n",
    "    elif -0.25 <= value < -0.05:\n",
    "        return \"medium negative\"\n",
    "    elif -0.5 <= value < -0.25:\n",
    "        return \"high negative\"\n",
    "    elif value < -0.5:\n",
    "        return \"critical negative\"\n",
    "    elif 0 < value <= 0.05:\n",
    "        return \"low positive\"\n",
    "    elif 0.05 < value <= 0.25:\n",
    "        return \"medium positive\"\n",
    "    elif 0.25 < value <= 0.5:\n",
    "        return \"high positive\"\n",
    "    elif value > 0.5:\n",
    "        return \"critical positive\"\n",
    "    else:\n",
    "        return \"undefined\"\n",
    "\n",
    "\n",
    "severities = {}\n",
    "for deviation, penalty in cates.items():\n",
    "    severities[deviation] = severity(penalty)"
   ]
  },
  {
   "cell_type": "code",
   "execution_count": 20,
   "id": "88c54ba8",
   "metadata": {},
   "outputs": [
    {
     "name": "stdout",
     "output_type": "stream",
     "text": [
      "Counter({'medium negative': 21, 'low negative': 10, 'medium positive': 8, 'low positive': 6, 'high positive': 1})\n"
     ]
    }
   ],
   "source": [
    "counter = Counter(severities.values())\n",
    "\n",
    "print(counter)"
   ]
  },
  {
   "cell_type": "code",
   "execution_count": 15,
   "id": "953f2be6",
   "metadata": {},
   "outputs": [
    {
     "data": {
      "text/plain": [
       "{'Precedence_Vendor creates invoice_Remove Payment Block': 'low positive',\n",
       " 'Precedence_Record Goods Receipt_Remove Payment Block': 'low positive',\n",
       " 'Precedence_Record Goods Receipt_Record Invoice Receipt': 'medium positive',\n",
       " 'Precedence_Create Purchase Order Item_Clear Invoice': 'medium positive',\n",
       " 'Precedence_Create Purchase Order Item_Remove Payment Block': 'low positive',\n",
       " 'Precedence_Create Purchase Order Item_Record Invoice Receipt': 'medium positive',\n",
       " 'Precedence_Record Goods Receipt_Clear Invoice': 'medium positive',\n",
       " 'Precedence_Vendor creates invoice_Clear Invoice': 'medium positive',\n",
       " 'Precedence_Record Invoice Receipt_Clear Invoice': 'medium positive',\n",
       " 'Precedence_Record Invoice Receipt_Remove Payment Block': 'low positive',\n",
       " 'Response_Vendor creates invoice_Record Invoice Receipt': 'medium positive',\n",
       " 'Precedence_Create Purchase Order Item_Vendor creates invoice': 'medium positive',\n",
       " 'Precedence_Vendor creates invoice_Record Invoice Receipt': 'medium positive',\n",
       " 'Response_Create Purchase Order Item_Record Goods Receipt': 'low negative',\n",
       " 'Response_Vendor creates invoice_Clear Invoice': 'medium positive',\n",
       " 'Response_Remove Payment Block_Clear Invoice': 'medium positive',\n",
       " 'Response_Record Invoice Receipt_Clear Invoice': 'medium positive',\n",
       " 'Precedence_Create Purchase Order Item_Record Goods Receipt': 'medium positive',\n",
       " 'Response_Record Goods Receipt_Record Invoice Receipt': 'medium positive',\n",
       " 'Response_Create Purchase Order Item_Record Invoice Receipt': 'medium positive',\n",
       " 'Response_Create Purchase Order Item_Vendor creates invoice': 'medium positive',\n",
       " 'Response_Record Goods Receipt_Clear Invoice': 'medium positive',\n",
       " 'Response_Create Purchase Order Item_Clear Invoice': 'medium positive',\n",
       " 'Response_Vendor creates invoice_Record Goods Receipt': 'medium positive',\n",
       " 'Response_Record Service Entry Sheet_Record Invoice Receipt': 'low negative',\n",
       " 'Precedence_Create Purchase Order Item_Record Service Entry Sheet': 'low negative',\n",
       " 'Precedence_Record Goods Receipt_Vendor creates invoice': 'low positive',\n",
       " 'Response_Record Service Entry Sheet_Clear Invoice': 'low negative',\n",
       " 'Response_Record Service Entry Sheet_Record Goods Receipt': 'medium negative',\n",
       " 'Precedence_Vendor creates invoice_Record Goods Receipt': 'medium positive',\n",
       " 'Precedence_Record Goods Receipt_Record Service Entry Sheet': 'medium negative',\n",
       " 'Response_Record Service Entry Sheet_Vendor creates invoice': 'medium negative',\n",
       " 'Response_Create Purchase Order Item_Record Service Entry Sheet': 'medium negative',\n",
       " 'Response_Record Goods Receipt_Vendor creates invoice': 'low positive',\n",
       " 'Precedence_Record Service Entry Sheet_Clear Invoice': 'low negative',\n",
       " 'Precedence_Record Service Entry Sheet_Record Invoice Receipt': 'low negative',\n",
       " 'Precedence_Record Service Entry Sheet_Record Goods Receipt': 'medium negative',\n",
       " 'Response_Record Goods Receipt_Record Service Entry Sheet': 'medium negative',\n",
       " 'Response_Vendor creates invoice_Remove Payment Block': 'low positive',\n",
       " 'Precedence_Record Service Entry Sheet_Vendor creates invoice': 'medium negative',\n",
       " 'Precedence_Record Service Entry Sheet_Create Purchase Order Item': 'high negative',\n",
       " 'Response_Record Invoice Receipt_Remove Payment Block': 'low positive',\n",
       " 'Precedence_Remove Payment Block_Clear Invoice': 'medium positive',\n",
       " 'Precedence_Record Goods Receipt_Create Purchase Order Item': 'medium negative',\n",
       " 'Response_Record Goods Receipt_Remove Payment Block': 'low positive',\n",
       " 'Response_Create Purchase Order Item_Remove Payment Block': 'low positive'}"
      ]
     },
     "execution_count": 15,
     "metadata": {},
     "output_type": "execute_result"
    }
   ],
   "source": [
    "severities"
   ]
  },
  {
   "cell_type": "code",
   "execution_count": null,
   "id": "3459ac02",
   "metadata": {},
   "outputs": [],
   "source": []
  }
 ],
 "metadata": {
  "kernelspec": {
   "display_name": "Python 3",
   "language": "python",
   "name": "python3"
  },
  "language_info": {
   "codemirror_mode": {
    "name": "ipython",
    "version": 3
   },
   "file_extension": ".py",
   "mimetype": "text/x-python",
   "name": "python",
   "nbconvert_exporter": "python",
   "pygments_lexer": "ipython3",
   "version": "3.11.9"
  }
 },
 "nbformat": 4,
 "nbformat_minor": 5
}
