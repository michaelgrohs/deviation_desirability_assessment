{
 "cells": [
  {
   "cell_type": "markdown",
   "id": "00456e16-3964-4975-9cf7-95196ba7c50c",
   "metadata": {},
   "source": [
    "## Desirability of MP-Declare constraint violations w.r.t. costs"
   ]
  },
  {
   "cell_type": "markdown",
   "id": "6404a5d6-bd4b-4f39-8cc4-7826726acf34",
   "metadata": {},
   "source": [
    "### Importing a log (P2P Process BPIC'19)"
   ]
  },
  {
   "cell_type": "code",
   "execution_count": 1,
   "id": "9254d942-7718-4a76-a6fe-e8b533644e85",
   "metadata": {},
   "outputs": [],
   "source": [
    "import time\n",
    "from tqdm import tqdm\n",
    "import pm4py\n",
    "\n",
    "import matplotlib.pyplot as plt\n",
    "from collections import Counter\n",
    "\n",
    "from process_atoms.mine.declare.enums.mp_constants import Template\n",
    "from process_atoms.processatoms import ProcessAtoms\n",
    "from process_atoms.mine.declare.regexchecker import RegexChecker\n",
    "import pandas as pd\n",
    "import seaborn as sns\n",
    "\n",
    "from process_atoms.models.event_log import EventLog, EventLogSchemaTypes\n",
    "from process_atoms.models.column_types import (\n",
    "    CaseID,\n",
    "    Categorical,\n",
    "    EventType,\n",
    "    EventTime,\n",
    "    Continuous,\n",
    ")\n",
    "\n",
    "def penalty(duration, slack, amount, percentage):\n",
    "    penalty = (duration / slack) * percentage * amount\n",
    "    return penalty\n",
    "\n",
    "schema = EventLogSchemaTypes(\n",
    "    # schema for case-level attributes\n",
    "    cases={\n",
    "        \"Case ID\": CaseID,\n",
    "        \"(case) Company\": Categorical,\n",
    "        \"(case) Document Type\": Categorical,\n",
    "        \"(case) GR-Based Inv. Verif.\": Categorical,\n",
    "        \"(case) Goods Receipt\": Categorical,\n",
    "        \"(case) Item\": Categorical,\n",
    "        \"(case) Item Category\": Categorical,\n",
    "        \"(case) Item Type\": Categorical,\n",
    "        \"(case) Name\": Categorical,\n",
    "        \"(case) Purch. Doc. Category name\": Categorical,\n",
    "        \"(case) Purchasing Document\": Categorical,\n",
    "        \"(case) Source\": Categorical,\n",
    "        \"(case) Spend area text\": Categorical,\n",
    "        \"(case) Spend classification text\": Categorical,\n",
    "        \"(case) Sub spend area text\": Categorical,\n",
    "        \"(case) Vendor\": Categorical,\n",
    "        \"Cumulative net worth (EUR)\": Continuous,\n",
    "    },\n",
    "    events={\n",
    "        \"Case ID\": CaseID,\n",
    "        \"Activity\": EventType,\n",
    "        \"Complete Timestamp\": EventTime,\n",
    "        \"Resource\": Categorical,\n",
    "    },\n",
    ")\n",
    "\n",
    "LOG_PATH = \"data/BPI_Challenge_2019.csv\"\n",
    "PROCESS = \"BPIC_19\"\n",
    "# read the full log\n",
    "log = pd.read_csv(LOG_PATH, parse_dates=[\"Complete Timestamp\"])\n",
    "# split into case and event attributes\n",
    "df_cases = log[list(schema.cases.keys())].drop_duplicates(subset=\"Case ID\")\n",
    "df_events = log[list(schema.events.keys())]\n",
    "\n",
    "# create event log object\n",
    "event_log = EventLog(df_cases, df_events, schema)"
   ]
  },
  {
   "cell_type": "markdown",
   "id": "9c9415b0-d657-4aa5-8f70-a4a1131e6fb7",
   "metadata": {
    "jp-MarkdownHeadingCollapsed": true
   },
   "source": [
    "### Create the process model by mining declarative constraints from the log "
   ]
  },
  {
   "cell_type": "code",
   "execution_count": 2,
   "id": "4de753ce-b3da-4e7b-b12e-fb681e2e2c02",
   "metadata": {},
   "outputs": [
    {
     "name": "stderr",
     "output_type": "stream",
     "text": [
      "100%|██████████| 27/27 [00:01<00:00, 17.99it/s]\n"
     ]
    },
    {
     "name": "stdout",
     "output_type": "stream",
     "text": [
      "Atom mining took 1.8090260028839111 seconds.\n"
     ]
    }
   ],
   "source": [
    "considered_templates = [Template.RESPONSE.templ_str, Template.PRECEDENCE.templ_str]\n",
    "api = ProcessAtoms()\n",
    "\n",
    "start_time = time.time()\n",
    "atoms = api.mine_atoms_from_log(\n",
    "    PROCESS,\n",
    "    event_log,\n",
    "    considered_templates,\n",
    "    min_support=(0.1 * len(event_log)) / len(event_log),\n",
    "    local=True,\n",
    "    consider_vacuity=False,\n",
    ")\n",
    "end_time = time.time()\n",
    "\n",
    "delta = end_time - start_time\n",
    "\n",
    "print(f\"Atom mining took {delta} seconds.\")\n",
    "def atoms_to_df(atoms):\n",
    "    records = [\n",
    "        {\n",
    "            \"type\": atom.atom_type,\n",
    "            \"op_0\": atom.operands[0],\n",
    "            \"op_1\": atom.operands[1] if len(atom.operands) > 0 else \"\",\n",
    "            \"support\": atom.support,\n",
    "            \"confidence\": atom.attributes[\"confidence\"],\n",
    "        }\n",
    "        for atom in atoms\n",
    "    ]\n",
    "    return pd.DataFrame.from_records(records).sort_values(\n",
    "        by=\"confidence\", ascending=False\n",
    "    )\n",
    "atoms_df = atoms_to_df(atoms)\n",
    "atoms_df[\"durations\"] = atoms_df.apply(\n",
    "    lambda x: [\n",
    "        dur / ((24 * 3600) * 10**9)\n",
    "        for dur in event_log.activity_pair_durations(a=x[\"op_0\"], b=x[\"op_1\"])\n",
    "    ],\n",
    "    axis=1,\n",
    ")"
   ]
  },
  {
   "cell_type": "markdown",
   "id": "f0442b80",
   "metadata": {},
   "source": [
    "### Select three constraints in which the time between both is restricted"
   ]
  },
  {
   "cell_type": "code",
   "execution_count": 3,
   "id": "0a879ff6",
   "metadata": {},
   "outputs": [
    {
     "data": {
      "text/plain": "{3: {'type': 'Precedence',\n  'op_0': 'Create Purchase Order Item',\n  'op_1': 'Clear Invoice',\n  'required_time': 90,\n  'cost_function': [7, 0.05]},\n 7: {'type': 'Precedence',\n  'op_0': 'Vendor creates invoice',\n  'op_1': 'Clear Invoice',\n  'required_time': 90,\n  'cost_function': [7, 0.05]},\n 16: {'type': 'Response',\n  'op_0': 'Record Invoice Receipt',\n  'op_1': 'Clear Invoice',\n  'required_time': 90,\n  'cost_function': [7, 0.05]}}"
     },
     "execution_count": 3,
     "metadata": {},
     "output_type": "execute_result"
    }
   ],
   "source": [
    "constraints=[3,7,16]\n",
    "constraints_dict={}\n",
    "for con in constraints:\n",
    "    constraints_dict[con]={}\n",
    "    constraints_dict[con]['type']=atoms_df.type[con]\n",
    "    constraints_dict[con]['op_0']=atoms_df.op_0[con]\n",
    "    constraints_dict[con]['op_1']=atoms_df.op_1[con]\n",
    "    constraints_dict[con]['required_time']=90 # between op_0 and op_1, maximum 90 days should pass\n",
    "    constraints_dict[con]['cost_function']=[7, 0.05] # for every 7 days after that, 5% are added to the cost\n",
    "constraints_dict"
   ]
  },
  {
   "cell_type": "markdown",
   "id": "b33414b1",
   "metadata": {},
   "source": [
    "### Quantify the impact of each deviation based on cost function "
   ]
  },
  {
   "cell_type": "code",
   "execution_count": 4,
   "id": "7192b46b-ae9a-409e-896e-d3f40f1f2910",
   "metadata": {},
   "outputs": [
    {
     "name": "stderr",
     "output_type": "stream",
     "text": [
      "100%|██████████| 9676/9676 [08:02<00:00, 20.05it/s]\n",
      "100%|██████████| 9674/9674 [08:02<00:00, 20.06it/s]\n",
      "100%|██████████| 9498/9498 [07:53<00:00, 20.04it/s]\n"
     ]
    }
   ],
   "source": [
    "for con in constraints:\n",
    "    durations = sorted(\n",
    "        atoms_df.loc[\n",
    "            (atoms_df[\"type\"] == constraints_dict[con]['type'])\n",
    "            & (atoms_df[\"op_0\"] == constraints_dict[con]['op_0'])\n",
    "            & (atoms_df[\"op_1\"] == constraints_dict[con]['op_1']),\n",
    "            \"durations\",\n",
    "        ].values[0]\n",
    "    )\n",
    "    the_atom = None\n",
    "    for atom in atoms:\n",
    "        if atom.atom_type == constraints_dict[con]['type'] and atom.operands == [\n",
    "            constraints_dict[con]['op_0'],\n",
    "            constraints_dict[con]['op_1'],\n",
    "        ]:\n",
    "            the_atom = atom\n",
    "    checker = RegexChecker(PROCESS, event_log)\n",
    "    activities = checker.log.unique_activities()\n",
    "    activity_map = checker._map_activities_to_letters(activities)\n",
    "    variant_frame = checker.create_variant_frame_from_log(activity_map)\n",
    "    variant_frame[\"sat\"] = checker.compute_satisfaction(\n",
    "        the_atom, variant_frame, activity_map, consider_vacuity=False\n",
    "    )\n",
    "    variant_frame = variant_frame[variant_frame[\"sat\"]]\n",
    "    case_ids = set(val for cases in variant_frame[\"case_ids\"].values for val in cases)\n",
    "\n",
    "\n",
    "    metric_satisfaction = dict()\n",
    "    for case_id in tqdm(case_ids):\n",
    "        metric_satisfaction[case_id] = checker.check_time_constraint_violation(\n",
    "            case_id, the_atom, \"max\", constraints_dict[con]['required_time'], \"d\"\n",
    "        )\n",
    "    penalties = {}\n",
    "    for case_id, violation in metric_satisfaction.items():\n",
    "        if violation:\n",
    "            penalties[case_id] = penalty(\n",
    "                violation,\n",
    "                constraints_dict[con]['cost_function'][0],  # slack in days\n",
    "                event_log.cases.loc[\n",
    "                    event_log.cases[\"Case ID\"] == case_id, \"Cumulative net worth (EUR)\"\n",
    "                ].values[0],\n",
    "                constraints_dict[con]['cost_function'][1],  # added penalties in percentage,\n",
    "            )\n",
    "        else:\n",
    "            penalties[case_id] = 0\n",
    "    constraints_dict[con]['total_costs']= sum(penalties.values())"
   ]
  },
  {
   "cell_type": "code",
   "execution_count": 5,
   "id": "a5ca73dc",
   "metadata": {},
   "outputs": [
    {
     "data": {
      "text/plain": "{3: {'type': 'Precedence',\n  'op_0': 'Create Purchase Order Item',\n  'op_1': 'Clear Invoice',\n  'required_time': 90,\n  'cost_function': [7, 0.05],\n  'total_costs': 8573453.846279772},\n 7: {'type': 'Precedence',\n  'op_0': 'Vendor creates invoice',\n  'op_1': 'Clear Invoice',\n  'required_time': 90,\n  'cost_function': [7, 0.05],\n  'total_costs': 25320962.23710812},\n 16: {'type': 'Response',\n  'op_0': 'Record Invoice Receipt',\n  'op_1': 'Clear Invoice',\n  'required_time': 90,\n  'cost_function': [7, 0.05],\n  'total_costs': 35450.55287698414}}"
     },
     "execution_count": 5,
     "metadata": {},
     "output_type": "execute_result"
    }
   ],
   "source": [
    "constraints_dict"
   ]
  },
  {
   "cell_type": "code",
   "execution_count": 6,
   "id": "d24fb208",
   "metadata": {},
   "outputs": [],
   "source": [
    "constraints_dict[con]['total_costs']= sum(penalties.values())"
   ]
  },
  {
   "cell_type": "markdown",
   "id": "78aa58f0-b86a-406c-bc64-bd759fdaf6f7",
   "metadata": {},
   "source": [
    "### Defining the severity function\n",
    "* 0 is fine\n",
    "* Anything below 100 is low\n",
    "* Anything below 500 is medium\n",
    "* Anything below 1,000 is high\n",
    "* Anything above 1,000 is critical"
   ]
  },
  {
   "cell_type": "code",
   "execution_count": 9,
   "id": "3de60a29-2a1d-4db0-a3d5-a27605d03c1b",
   "metadata": {},
   "outputs": [],
   "source": [
    "boundaries = {\n",
    "    \" == 0\": \"fine\",\n",
    "    \" <= 100000\": \"low\",\n",
    "    \" <= 1000000\": \"medium\",\n",
    "    \" > 1000000\": \"high\"\n",
    "}\n",
    "\n",
    "\n",
    "def get_severity(penalty, boundaries):\n",
    "    for boundary, category in boundaries.items():\n",
    "        if eval(str(penalty) + boundary):\n",
    "            return category\n",
    "    return \"unknown\"\n",
    "\n",
    "\n",
    "severities = {}\n",
    "for con in constraints_dict.keys():\n",
    "    severities[con] = get_severity(constraints_dict[con]['total_costs'], boundaries)"
   ]
  },
  {
   "cell_type": "code",
   "execution_count": 10,
   "id": "288c0b3c",
   "metadata": {},
   "outputs": [
    {
     "data": {
      "text/plain": "{3: 'high', 7: 'high', 16: 'low'}"
     },
     "execution_count": 10,
     "metadata": {},
     "output_type": "execute_result"
    }
   ],
   "source": [
    "severities"
   ]
  },
  {
   "cell_type": "code",
   "execution_count": null,
   "id": "37d79ede",
   "metadata": {},
   "outputs": [],
   "source": []
  },
  {
   "cell_type": "code",
   "execution_count": null,
   "id": "61c7d20b",
   "metadata": {},
   "outputs": [],
   "source": []
  }
 ],
 "metadata": {
  "kernelspec": {
   "display_name": "Python 3",
   "language": "python",
   "name": "python3"
  },
  "language_info": {
   "codemirror_mode": {
    "name": "ipython",
    "version": 3
   },
   "file_extension": ".py",
   "mimetype": "text/x-python",
   "name": "python",
   "nbconvert_exporter": "python",
   "pygments_lexer": "ipython3",
   "version": "3.11.9"
  }
 },
 "nbformat": 4,
 "nbformat_minor": 5
}
